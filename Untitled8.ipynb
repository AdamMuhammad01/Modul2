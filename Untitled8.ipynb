{
 "cells": [
  {
   "cell_type": "code",
   "execution_count": null,
   "metadata": {},
   "outputs": [],
   "source": [
    "%matplotlib notebook\n",
    "import matplotlib.pyplot as plt"
   ]
  },
  {
   "cell_type": "code",
   "execution_count": null,
   "metadata": {},
   "outputs": [],
   "source": [
    "x=[1,2,3,4,5,6,7,8,9]\n",
    "y=[1,3,5,7,8,9,3,5,2]\n",
    "\n",
    "plt.plot(x, y)\n",
    "plt.title('X vs Y')\n",
    "plt.xlabel('Nilai X')\n",
    "plt.ylabel('Nilai Y')\n",
    "plt.grid(True)\n",
    "plt.show()"
   ]
  },
  {
   "cell_type": "code",
   "execution_count": null,
   "metadata": {},
   "outputs": [],
   "source": []
  }
 ],
 "metadata": {
  "kernelspec": {
   "display_name": "'Python Interactive'",
   "language": "python",
   "name": "e246c25a-7e63-4446-bae7-b9435e9b654f"
  }
 },
 "nbformat": 4,
 "nbformat_minor": 2
}

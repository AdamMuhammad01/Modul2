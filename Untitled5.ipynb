{
 "cells": [
  {
   "cell_type": "code",
   "execution_count": 1,
   "metadata": {},
   "outputs": [],
   "source": [
    "import numpy as np\n",
    "import pandas as pd"
   ]
  },
  {
   "cell_type": "code",
   "execution_count": 7,
   "metadata": {},
   "outputs": [
    {
     "data": {
      "text/html": [
       "<div>\n",
       "<style scoped>\n",
       "    .dataframe tbody tr th:only-of-type {\n",
       "        vertical-align: middle;\n",
       "    }\n",
       "\n",
       "    .dataframe tbody tr th {\n",
       "        vertical-align: top;\n",
       "    }\n",
       "\n",
       "    .dataframe thead th {\n",
       "        text-align: right;\n",
       "    }\n",
       "</style>\n",
       "<table border=\"1\" class=\"dataframe\">\n",
       "  <thead>\n",
       "    <tr style=\"text-align: right;\">\n",
       "      <th></th>\n",
       "      <th>nilai</th>\n",
       "    </tr>\n",
       "    <tr>\n",
       "      <th>nama</th>\n",
       "      <th></th>\n",
       "    </tr>\n",
       "  </thead>\n",
       "  <tbody>\n",
       "    <tr>\n",
       "      <td>Andi</td>\n",
       "      <td>93.75</td>\n",
       "    </tr>\n",
       "    <tr>\n",
       "      <td>Budi</td>\n",
       "      <td>91.00</td>\n",
       "    </tr>\n",
       "  </tbody>\n",
       "</table>\n",
       "</div>"
      ],
      "text/plain": [
       "      nilai\n",
       "nama       \n",
       "Andi  93.75\n",
       "Budi  91.00"
      ]
     },
     "execution_count": 7,
     "metadata": {},
     "output_type": "execute_result"
    }
   ],
   "source": [
    "\n",
    "df = pd.DataFrame([\n",
    "    {'nama':'Andi', 'nilai':90},\n",
    "    {'nama':'Andi', 'nilai':94},\n",
    "    {'nama':'Andi', 'nilai':95},\n",
    "    {'nama':'Andi', 'nilai':96},\n",
    "    {'nama':'Budi', 'nilai':92},\n",
    "    {'nama':'Budi', 'nilai':90},       \n",
    "\n",
    "])\n",
    "dfGroup = df.groupby('nama')\n",
    "# dfGroup.get_group('Budi')\n",
    "dfGroup.min()\n",
    "dfGroup.max()\n",
    "dfGroup.mean()"
   ]
  },
  {
   "cell_type": "code",
   "execution_count": 10,
   "metadata": {},
   "outputs": [
    {
     "data": {
      "text/plain": [
       "95"
      ]
     },
     "execution_count": 10,
     "metadata": {},
     "output_type": "execute_result"
    }
   ],
   "source": [
    "\n",
    "df = pd.DataFrame([\n",
    "    {'nama':'Andi','fisika':90, 'biologi':78},\n",
    "    {'nama':'Andi','fisika':95, 'biologi':80},\n",
    "    {'nama':'Andi','fisika':93, 'biologi':96},\n",
    "    {'nama':'Andi','fisika':92, 'biologi':95},\n",
    "    {'nama':'Budi','fisika':80, 'biologi':93},\n",
    "    {'nama':'Budi','fisika':88, 'biologi':90},       \n",
    "\n",
    "])\n",
    "dfGroup = df.groupby('nama')\n",
    "# dfGroup.get_group('Budi')\n",
    "# dfGroup.min()\n",
    "# dfGroup.max()\n",
    "dfGroup.mean()\n",
    "# dfGroup.get_group('Andi').max()['fisika']\n",
    "df[df['nama'] == 'Andi']['fisika'].max()"
   ]
  },
  {
   "cell_type": "code",
   "execution_count": null,
   "metadata": {},
   "outputs": [],
   "source": []
  }
 ],
 "metadata": {
  "kernelspec": {
   "display_name": "Python 3",
   "language": "python",
   "name": "python3"
  },
  "language_info": {
   "codemirror_mode": {
    "name": "ipython",
    "version": 3
   },
   "file_extension": ".py",
   "mimetype": "text/x-python",
   "name": "python",
   "nbconvert_exporter": "python",
   "pygments_lexer": "ipython3",
   "version": "3.7.4"
  }
 },
 "nbformat": 4,
 "nbformat_minor": 2
}

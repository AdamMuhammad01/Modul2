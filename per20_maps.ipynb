{
 "cells": [
  {
   "cell_type": "code",
   "execution_count": 8,
   "metadata": {},
   "outputs": [],
   "source": [
    "import folium"
   ]
  },
  {
   "cell_type": "code",
   "execution_count": 13,
   "metadata": {},
   "outputs": [
    {
     "ename": "IndentationError",
     "evalue": "unexpected indent (<ipython-input-13-a6ab3ea9e2ff>, line 5)",
     "output_type": "error",
     "traceback": [
      "\u001b[1;36m  File \u001b[1;32m\"<ipython-input-13-a6ab3ea9e2ff>\"\u001b[1;36m, line \u001b[1;32m5\u001b[0m\n\u001b[1;33m    popup = '<b>Monumen Nasional</b><br><small>Jakarta</small>'),\u001b[0m\n\u001b[1;37m    ^\u001b[0m\n\u001b[1;31mIndentationError\u001b[0m\u001b[1;31m:\u001b[0m unexpected indent\n"
     ]
    }
   ],
   "source": [
    "map = folium.Map(\n",
    "      location =[-6.1753924, 106.8271528],\n",
    "      tiles = 'OpenStreetMap',zoom_start=17)\n",
    "folium.marker(location=[-6.1753924, 106.8271528],tooltip='<i>Halo</i>'),\n",
    "     popup = '<b>Monumen Nasional</b><br><small>Jakarta</small>'),\n",
    "    icon = folium.Icon(color='pink',prefix='fa',icon='futbol')).add_to(map)\n",
    ")\n",
    "     folium.marker(location=[-6.1753924, 106.8271528],tooltip='<i>Halo</i>'),\n",
    "     popup = '<b>Monumen Nasional</b><br><small>Jakarta</small>'),\n",
    "    icon = folium.Icon(color='pink',prefix='fa',icon='futbol')).add_to(map)\n",
    "map"
   ]
  },
  {
   "cell_type": "code",
   "execution_count": null,
   "metadata": {},
   "outputs": [],
   "source": []
  }
 ],
 "metadata": {
  "kernelspec": {
   "display_name": "Python 3",
   "language": "python",
   "name": "python3"
  },
  "language_info": {
   "codemirror_mode": {
    "name": "ipython",
    "version": 3
   },
   "file_extension": ".py",
   "mimetype": "text/x-python",
   "name": "python",
   "nbconvert_exporter": "python",
   "pygments_lexer": "ipython3",
   "version": "3.7.4"
  }
 },
 "nbformat": 4,
 "nbformat_minor": 4
}

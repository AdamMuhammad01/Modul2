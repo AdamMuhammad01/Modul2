{
 "cells": [
  {
   "cell_type": "code",
   "execution_count": 2,
   "metadata": {},
   "outputs": [],
   "source": [
    "import pandas as pd\n",
    "import numpy as np\n",
    "import matplotlib.pyplot as plt\n",
    "import seaborn as sns\n",
    "# %matplotlib inline\n",
    "import requests"
   ]
  },
  {
   "cell_type": "code",
   "execution_count": 4,
   "metadata": {},
   "outputs": [],
   "source": [
    "\n",
    "from urllib.request import urlopen\n",
    "from bs4 import BeautifulSoup\n",
    "url = 'https://www2.2019seagames.com/countries/'\n",
    "x = requests.get(url)\n",
    "soup = BeautifulSoup(x.content,'html.parser')\n",
    "b = soup.find_all('em')\n",
    "\n",
    "\n",
    "c = []\n",
    "for j in b:\n",
    "    c.append(j.text)\n",
    "negara = []\n",
    "gold = []\n",
    "country = c[:66:6]\n",
    "emas = c[2:66:6]\n",
    "negara.append(country)\n",
    "gold.append(emas)\n",
    "# print(negara)\n",
    "seventeen = np.array([0,3,38,2,145,7,24,57,72,0,58])\n",
    "\n",
    "url = 'https://rs.2019seagames.com/RS2019/mobiapp/MedalTally'\n",
    "y = requests.get(url)\n",
    "d = BeautifulSoup(y.content,'html.parser')\n",
    "e = d.find_all('small')\n",
    "# print(e)\n",
    "nineteen= []\n",
    "\n",
    "for i in e:\n",
    "    nineteen.append(i.text)\n",
    "nineteen = nineteen[6::5]\n",
    "# print(nineteen)\n",
    "nineteen = np.array([2,4,72,1,55,4,149,52,92,0,98])\n",
    "\n",
    "persentase = []\n",
    "for j in seventeen:\n",
    "    b = j/406\n",
    "    persentase.append(b)\n",
    "# print(persentase)\n",
    "    persentasee = []\n",
    "for i in nineteen:\n",
    "    asd = i/529\n",
    "    persentasee.append(asd)\n",
    "\n",
    "a = pd.DataFrame({\n",
    "    '2017':[0,3,38,2,145,7,24,57,72,0,58],\n",
    "    '2019':[2,4,72,1,55,4,149,52,92,0,98],\n",
    "    'x':country\n",
    "})\n"
   ]
  },
  {
   "cell_type": "code",
   "execution_count": 12,
   "metadata": {},
   "outputs": [
    {
     "ename": "NameError",
     "evalue": "name 'explode' is not defined",
     "output_type": "error",
     "traceback": [
      "\u001b[1;31m---------------------------------------------------------------------------\u001b[0m",
      "\u001b[1;31mNameError\u001b[0m                                 Traceback (most recent call last)",
      "\u001b[1;32m<ipython-input-12-866ffdae4702>\u001b[0m in \u001b[0;36m<module>\u001b[1;34m\u001b[0m\n\u001b[0;32m      6\u001b[0m \u001b[0max1\u001b[0m \u001b[1;33m=\u001b[0m \u001b[0mfig\u001b[0m\u001b[1;33m.\u001b[0m\u001b[0madd_axes\u001b[0m\u001b[1;33m(\u001b[0m\u001b[1;33m[\u001b[0m\u001b[1;36m.5\u001b[0m\u001b[1;33m,\u001b[0m \u001b[1;36m0\u001b[0m\u001b[1;33m,\u001b[0m \u001b[1;36m.5\u001b[0m\u001b[1;33m,\u001b[0m \u001b[1;36m.5\u001b[0m\u001b[1;33m]\u001b[0m\u001b[1;33m,\u001b[0m \u001b[0maspect\u001b[0m\u001b[1;33m=\u001b[0m\u001b[1;36m10\u001b[0m\u001b[1;33m)\u001b[0m\u001b[1;33m\u001b[0m\u001b[1;33m\u001b[0m\u001b[0m\n\u001b[0;32m      7\u001b[0m plt.pie(persentase,colors=['blue','green','red','blue','brown','lightblue','blue','green','red','yellow','brown'],\n\u001b[1;32m----> 8\u001b[1;33m         labels=country,startangle=90,explode=explode,textprops={'size':7,'color':'black'},autopct='%1.2f%%')\n\u001b[0m\u001b[0;32m      9\u001b[0m \u001b[0mplt\u001b[0m\u001b[1;33m.\u001b[0m\u001b[0mtitle\u001b[0m\u001b[1;33m(\u001b[0m\u001b[1;34m'GOLD % SEA GAMES 2017'\u001b[0m\u001b[1;33m,\u001b[0m\u001b[0mfontdict\u001b[0m\u001b[1;33m=\u001b[0m\u001b[1;33m{\u001b[0m\u001b[1;34m'family'\u001b[0m\u001b[1;33m:\u001b[0m\u001b[1;34m'calibri'\u001b[0m\u001b[1;33m,\u001b[0m\u001b[1;34m'size'\u001b[0m\u001b[1;33m:\u001b[0m\u001b[1;36m25\u001b[0m\u001b[1;33m,\u001b[0m\u001b[1;34m'color'\u001b[0m\u001b[1;33m:\u001b[0m\u001b[1;34m'black'\u001b[0m\u001b[1;33m}\u001b[0m\u001b[1;33m)\u001b[0m\u001b[1;33m\u001b[0m\u001b[1;33m\u001b[0m\u001b[0m\n\u001b[0;32m     10\u001b[0m \u001b[0mplt\u001b[0m\u001b[1;33m.\u001b[0m\u001b[0mshow\u001b[0m\u001b[1;33m(\u001b[0m\u001b[1;33m)\u001b[0m\u001b[1;33m\u001b[0m\u001b[1;33m\u001b[0m\u001b[0m\n",
      "\u001b[1;31mNameError\u001b[0m: name 'explode' is not defined"
     ]
    },
    {
     "data": {
      "image/png": "[encoded data removed]",
      "text/plain": [
       "<Figure size 432x288 with 1 Axes>"
      ]
     },
     "metadata": {},
     "output_type": "display_data"
    }
   ],
   "source": [
    "# pie chart\n",
    "fig = plt.figure()\n",
    "\n",
    "\n",
    "plt.style.use('ggplot')\n",
    "ax1 = fig.add_axes([.5, 0, .5, .5], aspect=10)\n",
    "plt.pie(persentase,colors=['blue','green','red','blue','brown','lightblue','blue','green','red','yellow','brown'],\n",
    "        labels=country,startangle=90,textprops={'size':7,'color':'black'},autopct='%1.2f%%')\n",
    "plt.title('GOLD % SEA GAMES 2017',fontdict={'family':'calibri','size':25,'color':'black'})\n",
    "plt.show()\n",
    "\n",
    "ax2 = fig.add_axes([.5, .0, .5, .5], aspect=10)\n",
    "plt.pie(persentasee,colors=['blue','green','red','blue','brown','lightblue','blue','green','red','yellow','brown'],\n",
    "        startangle=90,labels=country,textprops={'size':7,'color':'black'},autopct='%1.2f%%')\n",
    "plt.title('GOLD % SEA GAMES 2019',fontdict={'family':'calibri','size':25,'color':'black'})\n",
    "plt.show()"
   ]
  },
  {
   "cell_type": "code",
   "execution_count": null,
   "metadata": {},
   "outputs": [],
   "source": [
    "#bar chart\n",
    "\n",
    "plt.style.use('ggplot')\n",
    "plt.figure('GOLD MEDAL TALLY SEA GAMES 2017 & 2019',figsize=(16,8))\n",
    "plt.plot(a['x'],a['2017'],color='red')\n",
    "plt.plot(a['x'],a['2019'],color='green')\n",
    "plt.scatter(a['x'],a['2017'], marker='o', s=300, color='r', edgecolor='r',zorder=3)\n",
    "plt.scatter(a['x'],a['2019'], marker='o', s=300, color='g', edgecolor='r',zorder=3)\n",
    "plt.grid()\n",
    "plt.legend(['2017','2019'])\n",
    "plt.title('GOLD MEDAL TALLY SEA GAMES 2017 & 2019')\n",
    "plt.xticks(rotation=20)\n",
    "plt.show()\n"
   ]
  }
 ],
 "metadata": {
  "kernelspec": {
   "display_name": "Python 3",
   "language": "python",
   "name": "python3"
  },
  "language_info": {
   "codemirror_mode": {
    "name": "ipython",
    "version": 3
   },
   "file_extension": ".py",
   "mimetype": "text/x-python",
   "name": "python",
   "nbconvert_exporter": "python",
   "pygments_lexer": "ipython3",
   "version": "3.7.4"
  }
 },
 "nbformat": 4,
 "nbformat_minor": 4
}

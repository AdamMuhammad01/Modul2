{
 "cells": [
  {
   "cell_type": "code",
   "execution_count": 1,
   "metadata": {},
   "outputs": [],
   "source": [
    "import pandas as pd\n",
    "import matplotlib.pyplot as plt\n",
    "import numpy as np\n",
    "%matplotlib notebook"
   ]
  },
  {
   "cell_type": "code",
   "execution_count": 2,
   "metadata": {},
   "outputs": [],
   "source": [
    "ase = pd.read_csv('asean.csv')"
   ]
  },
  {
   "cell_type": "code",
   "execution_count": 3,
   "metadata": {},
   "outputs": [
    {
     "data": {
      "text/html": [
       "<div>\n",
       "<style scoped>\n",
       "    .dataframe tbody tr th:only-of-type {\n",
       "        vertical-align: middle;\n",
       "    }\n",
       "\n",
       "    .dataframe tbody tr th {\n",
       "        vertical-align: top;\n",
       "    }\n",
       "\n",
       "    .dataframe thead th {\n",
       "        text-align: right;\n",
       "    }\n",
       "</style>\n",
       "<table border=\"1\" class=\"dataframe\">\n",
       "  <thead>\n",
       "    <tr style=\"text-align: right;\">\n",
       "      <th></th>\n",
       "      <th>name</th>\n",
       "      <th>population</th>\n",
       "      <th>GNP</th>\n",
       "      <th>name.1</th>\n",
       "      <th>population.1</th>\n",
       "    </tr>\n",
       "  </thead>\n",
       "  <tbody>\n",
       "    <tr>\n",
       "      <td>0</td>\n",
       "      <td>Brunei</td>\n",
       "      <td>328000</td>\n",
       "      <td>11705.0</td>\n",
       "      <td>Bandar Seri Begawan</td>\n",
       "      <td>21484</td>\n",
       "    </tr>\n",
       "    <tr>\n",
       "      <td>1</td>\n",
       "      <td>Cambodia</td>\n",
       "      <td>11168000</td>\n",
       "      <td>5121.0</td>\n",
       "      <td>Phnom Penh</td>\n",
       "      <td>570155</td>\n",
       "    </tr>\n",
       "    <tr>\n",
       "      <td>2</td>\n",
       "      <td>East Timor</td>\n",
       "      <td>885000</td>\n",
       "      <td>0.0</td>\n",
       "      <td>Dili</td>\n",
       "      <td>47900</td>\n",
       "    </tr>\n",
       "    <tr>\n",
       "      <td>3</td>\n",
       "      <td>Indonesia</td>\n",
       "      <td>212107000</td>\n",
       "      <td>84982.0</td>\n",
       "      <td>Jakarta</td>\n",
       "      <td>9604900</td>\n",
       "    </tr>\n",
       "    <tr>\n",
       "      <td>4</td>\n",
       "      <td>Laos</td>\n",
       "      <td>5433000</td>\n",
       "      <td>1292.0</td>\n",
       "      <td>Vientiane</td>\n",
       "      <td>531800</td>\n",
       "    </tr>\n",
       "    <tr>\n",
       "      <td>5</td>\n",
       "      <td>Malaysia</td>\n",
       "      <td>22244000</td>\n",
       "      <td>69213.0</td>\n",
       "      <td>Kuala Lumpur</td>\n",
       "      <td>1297526</td>\n",
       "    </tr>\n",
       "    <tr>\n",
       "      <td>6</td>\n",
       "      <td>Myanmar</td>\n",
       "      <td>45611000</td>\n",
       "      <td>180375.0</td>\n",
       "      <td>Rangoon (Yangon)</td>\n",
       "      <td>3361700</td>\n",
       "    </tr>\n",
       "    <tr>\n",
       "      <td>7</td>\n",
       "      <td>Philippines</td>\n",
       "      <td>75967000</td>\n",
       "      <td>65107.0</td>\n",
       "      <td>Manila</td>\n",
       "      <td>1581082</td>\n",
       "    </tr>\n",
       "    <tr>\n",
       "      <td>8</td>\n",
       "      <td>Singapore</td>\n",
       "      <td>3567000</td>\n",
       "      <td>86503.0</td>\n",
       "      <td>Singapore</td>\n",
       "      <td>4017733</td>\n",
       "    </tr>\n",
       "    <tr>\n",
       "      <td>9</td>\n",
       "      <td>Thailand</td>\n",
       "      <td>61399000</td>\n",
       "      <td>116416.0</td>\n",
       "      <td>Bangkok</td>\n",
       "      <td>6320174</td>\n",
       "    </tr>\n",
       "  </tbody>\n",
       "</table>\n",
       "</div>"
      ],
      "text/plain": [
       "          name  population       GNP               name.1  population.1\n",
       "0       Brunei      328000   11705.0  Bandar Seri Begawan         21484\n",
       "1     Cambodia    11168000    5121.0           Phnom Penh        570155\n",
       "2   East Timor      885000       0.0                 Dili         47900\n",
       "3    Indonesia   212107000   84982.0              Jakarta       9604900\n",
       "4         Laos     5433000    1292.0            Vientiane        531800\n",
       "5     Malaysia    22244000   69213.0         Kuala Lumpur       1297526\n",
       "6      Myanmar    45611000  180375.0     Rangoon (Yangon)       3361700\n",
       "7  Philippines    75967000   65107.0               Manila       1581082\n",
       "8    Singapore     3567000   86503.0            Singapore       4017733\n",
       "9     Thailand    61399000  116416.0              Bangkok       6320174"
      ]
     },
     "execution_count": 3,
     "metadata": {},
     "output_type": "execute_result"
    }
   ],
   "source": [
    "ase"
   ]
  },
  {
   "cell_type": "code",
   "execution_count": 4,
   "metadata": {},
   "outputs": [
    {
     "data": {
      "text/plain": [
       "<matplotlib.legend.Legend at 0x1f81680fa08>"
      ]
     },
     "execution_count": 4,
     "metadata": {},
     "output_type": "execute_result"
    },
    {
     "data": {
      "image/png": "[encoded data removed]",
      "text/plain": [
       "<Figure size 432x288 with 1 Axes>"
      ]
     },
     "metadata": {},
     "output_type": "display_data"
    }
   ],
   "source": [
    "plt.style.use('ggplot')\n",
    "plt.plot(ase.population)\n",
    "plt.legend(['Brunei','Cambodia','East Timor','Indonesia','Laos','Malaysia','Myanmar','Philipines','Singapore','Thailand'])"
   ]
  },
  {
   "cell_type": "code",
   "execution_count": 5,
   "metadata": {},
   "outputs": [
    {
     "data": {
      "text/html": [
       "<div>\n",
       "<style scoped>\n",
       "    .dataframe tbody tr th:only-of-type {\n",
       "        vertical-align: middle;\n",
       "    }\n",
       "\n",
       "    .dataframe tbody tr th {\n",
       "        vertical-align: top;\n",
       "    }\n",
       "\n",
       "    .dataframe thead th {\n",
       "        text-align: right;\n",
       "    }\n",
       "</style>\n",
       "<table border=\"1\" class=\"dataframe\">\n",
       "  <thead>\n",
       "    <tr style=\"text-align: right;\">\n",
       "      <th></th>\n",
       "      <th>population</th>\n",
       "      <th>GNP</th>\n",
       "      <th>population.1</th>\n",
       "    </tr>\n",
       "  </thead>\n",
       "  <tbody>\n",
       "    <tr>\n",
       "      <td>count</td>\n",
       "      <td>1.000000e+01</td>\n",
       "      <td>10.000000</td>\n",
       "      <td>1.000000e+01</td>\n",
       "    </tr>\n",
       "    <tr>\n",
       "      <td>mean</td>\n",
       "      <td>4.387090e+07</td>\n",
       "      <td>62071.400000</td>\n",
       "      <td>2.735445e+06</td>\n",
       "    </tr>\n",
       "    <tr>\n",
       "      <td>std</td>\n",
       "      <td>6.500142e+07</td>\n",
       "      <td>59121.541273</td>\n",
       "      <td>3.155407e+06</td>\n",
       "    </tr>\n",
       "    <tr>\n",
       "      <td>min</td>\n",
       "      <td>3.280000e+05</td>\n",
       "      <td>0.000000</td>\n",
       "      <td>2.148400e+04</td>\n",
       "    </tr>\n",
       "    <tr>\n",
       "      <td>25%</td>\n",
       "      <td>4.033500e+06</td>\n",
       "      <td>6767.000000</td>\n",
       "      <td>5.413888e+05</td>\n",
       "    </tr>\n",
       "    <tr>\n",
       "      <td>50%</td>\n",
       "      <td>1.670600e+07</td>\n",
       "      <td>67160.000000</td>\n",
       "      <td>1.439304e+06</td>\n",
       "    </tr>\n",
       "    <tr>\n",
       "      <td>75%</td>\n",
       "      <td>5.745200e+07</td>\n",
       "      <td>86122.750000</td>\n",
       "      <td>3.853725e+06</td>\n",
       "    </tr>\n",
       "    <tr>\n",
       "      <td>max</td>\n",
       "      <td>2.121070e+08</td>\n",
       "      <td>180375.000000</td>\n",
       "      <td>9.604900e+06</td>\n",
       "    </tr>\n",
       "  </tbody>\n",
       "</table>\n",
       "</div>"
      ],
      "text/plain": [
       "         population            GNP  population.1\n",
       "count  1.000000e+01      10.000000  1.000000e+01\n",
       "mean   4.387090e+07   62071.400000  2.735445e+06\n",
       "std    6.500142e+07   59121.541273  3.155407e+06\n",
       "min    3.280000e+05       0.000000  2.148400e+04\n",
       "25%    4.033500e+06    6767.000000  5.413888e+05\n",
       "50%    1.670600e+07   67160.000000  1.439304e+06\n",
       "75%    5.745200e+07   86122.750000  3.853725e+06\n",
       "max    2.121070e+08  180375.000000  9.604900e+06"
      ]
     },
     "execution_count": 5,
     "metadata": {},
     "output_type": "execute_result"
    }
   ],
   "source": [
    "ase.describe()"
   ]
  },
  {
   "cell_type": "code",
   "execution_count": 17,
   "metadata": {},
   "outputs": [
    {
     "data": {
      "text/plain": [
       "Text(0.5, 0, 'Country')"
      ]
     },
     "execution_count": 17,
     "metadata": {},
     "output_type": "execute_result"
    },
    {
     "data": {
      "image/png": "[encoded data removed]",
      "text/plain": [
       "<Figure size 432x288 with 1 Axes>"
      ]
     },
     "metadata": {},
     "output_type": "display_data"
    }
   ],
   "source": [
    "plot = ase.plot(kind='bar')\n",
    "plot.set_xlabel('Country')"
   ]
  },
  {
   "cell_type": "code",
   "execution_count": 8,
   "metadata": {},
   "outputs": [
    {
     "data": {
      "text/html": [
       "<div>\n",
       "<style scoped>\n",
       "    .dataframe tbody tr th:only-of-type {\n",
       "        vertical-align: middle;\n",
       "    }\n",
       "\n",
       "    .dataframe tbody tr th {\n",
       "        vertical-align: top;\n",
       "    }\n",
       "\n",
       "    .dataframe thead th {\n",
       "        text-align: right;\n",
       "    }\n",
       "</style>\n",
       "<table border=\"1\" class=\"dataframe\">\n",
       "  <thead>\n",
       "    <tr style=\"text-align: right;\">\n",
       "      <th></th>\n",
       "      <th>name</th>\n",
       "      <th>population</th>\n",
       "    </tr>\n",
       "  </thead>\n",
       "  <tbody>\n",
       "    <tr>\n",
       "      <td>0</td>\n",
       "      <td>Brunei</td>\n",
       "      <td>328000</td>\n",
       "    </tr>\n",
       "    <tr>\n",
       "      <td>1</td>\n",
       "      <td>Cambodia</td>\n",
       "      <td>11168000</td>\n",
       "    </tr>\n",
       "    <tr>\n",
       "      <td>2</td>\n",
       "      <td>East Timor</td>\n",
       "      <td>885000</td>\n",
       "    </tr>\n",
       "    <tr>\n",
       "      <td>3</td>\n",
       "      <td>Indonesia</td>\n",
       "      <td>212107000</td>\n",
       "    </tr>\n",
       "    <tr>\n",
       "      <td>4</td>\n",
       "      <td>Laos</td>\n",
       "      <td>5433000</td>\n",
       "    </tr>\n",
       "  </tbody>\n",
       "</table>\n",
       "</div>"
      ],
      "text/plain": [
       "         name  population\n",
       "0      Brunei      328000\n",
       "1    Cambodia    11168000\n",
       "2  East Timor      885000\n",
       "3   Indonesia   212107000\n",
       "4        Laos     5433000"
      ]
     },
     "execution_count": 8,
     "metadata": {},
     "output_type": "execute_result"
    }
   ],
   "source": [
    "popu = ase[['name','population']]\n",
    "popu.head()"
   ]
  },
  {
   "cell_type": "code",
   "execution_count": 12,
   "metadata": {},
   "outputs": [
    {
     "data": {
      "text/plain": [
       "(array([0.00e+00, 2.50e+07, 5.00e+07, 7.50e+07, 1.00e+08, 1.25e+08,\n",
       "        1.50e+08, 1.75e+08, 2.00e+08, 2.25e+08]),\n",
       " <a list of 10 Text yticklabel objects>)"
      ]
     },
     "execution_count": 12,
     "metadata": {},
     "output_type": "execute_result"
    },
    {
     "data": {
      "image/png": "[encoded data removed]",
      "text/plain": [
       "<Figure size 800x400 with 1 Axes>"
      ]
     },
     "metadata": {},
     "output_type": "display_data"
    }
   ],
   "source": [
    "plt.figure(figsize=(8,4),dpi=100)\n",
    "plt.bar(ase.name, ase.population,color=['b','orange','g','r','purple','brown','pink','silver','black','green','yellow'],\n",
    "       edgecolor ='black',linewidth=5)\n",
    "plt.title('Populasi Negara Asean',\n",
    "         fontdict={'family':'impact', 'size':10, 'color':'black'})\n",
    "plt.xlabel('negara')\n",
    "plt.ylabel('populasi')\n",
    "plt.xticks(rotation=45, size=10)\n",
    "plt.yticks(size=5)"
   ]
  }
 ],
 "metadata": {
  "kernelspec": {
   "display_name": "Python 3",
   "language": "python",
   "name": "python3"
  },
  "language_info": {
   "codemirror_mode": {
    "name": "ipython",
    "version": 3
   },
   "file_extension": ".py",
   "mimetype": "text/x-python",
   "name": "python",
   "nbconvert_exporter": "python",
   "pygments_lexer": "ipython3",
   "version": "3.7.4"
  }
 },
 "nbformat": 4,
 "nbformat_minor": 4
}
